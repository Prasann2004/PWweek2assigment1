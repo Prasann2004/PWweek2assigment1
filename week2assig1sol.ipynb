{
 "cells": [
  {
   "cell_type": "markdown",
   "id": "ee463dd5",
   "metadata": {},
   "source": [
    "## Q1)\n",
    "Comments are lines of text that are not executed as part of the program and are ignored by the Python interpreter. There are two types of comments in Python: single-line comments and multi-line comments.\n",
    "Types:\n",
    "\n",
    "(i)single-line:we use # symbol write a comment which is of single line.\n",
    "\n",
    "(ii)Multi-line comments:we use ''' ''' to write a multiline comment.We add the comment inside ''' '''.\n",
    "\n",
    "Examples in next cell."
   ]
  },
  {
   "cell_type": "code",
   "execution_count": 1,
   "id": "c5efbbf8",
   "metadata": {},
   "outputs": [
    {
     "data": {
      "text/plain": [
       "'example of multi-line comment'"
      ]
     },
     "execution_count": 1,
     "metadata": {},
     "output_type": "execute_result"
    }
   ],
   "source": [
    "#Q1)\n",
    "#example of single line comment\n",
    "'''example of multi-line comment'''"
   ]
  },
  {
   "cell_type": "markdown",
   "id": "00b1daef",
   "metadata": {},
   "source": [
    "## Q2)\n",
    "Variables in python are symbols which are used to store and manuplate data.\n",
    "In python we declare variable by using = as opperation.Examples in next cell."
   ]
  },
  {
   "cell_type": "code",
   "execution_count": 2,
   "id": "81e4140f",
   "metadata": {},
   "outputs": [],
   "source": [
    "#Q2)\n",
    "#<variable_name>=<value>\n",
    "a=5"
   ]
  },
  {
   "cell_type": "markdown",
   "id": "f992ccd7",
   "metadata": {},
   "source": [
    "## Q3)\n",
    "Python provides built-in functions that allow you to convert between different data types.\n",
    "\n",
    "(i)int(): Converts a value to an integer data type.\n",
    "\n",
    "(ii)float(): Converts a value to a floating-point (decimal) data type.\n",
    "\n",
    "(iii)str(): Converts a value to a string data type.\n",
    "\n",
    "(iv)list(): Converts a value to a list data type.\n",
    "\n",
    "(v)tuple(): Converts a value to a tuple data type.\n",
    "\n",
    "(vi)set(): Converts a value to a set data type.\n",
    "\n",
    "(vii)dict(): Converts a value to a dictionary data type.\n",
    "\n",
    "(viii)bool(): Converts a value to a boolean data type.\n",
    "\n",
    "Example in next cell."
   ]
  },
  {
   "cell_type": "code",
   "execution_count": 4,
   "id": "75dc29b7",
   "metadata": {},
   "outputs": [
    {
     "name": "stdout",
     "output_type": "stream",
     "text": [
      "3\n",
      "1.0\n",
      "69\n",
      "['h', 'e', 'l', 'l', 'o']\n",
      "(1, 2, 3, 4, 5, 6)\n",
      "{1, 2, 3}\n",
      "{'a': 1, 'b': 2}\n",
      "True\n"
     ]
    }
   ],
   "source": [
    "#Q3) Examples\n",
    "print(int(3.141))\n",
    "print(float(1))\n",
    "print(str(69))\n",
    "print(list(\"hello\"))\n",
    "print(tuple([1,2,3,4,5,6]))\n",
    "print(set([1,2,2,3]))\n",
    "print(dict([('a', 1), ('b', 2)]))\n",
    "print(bool(5))"
   ]
  },
  {
   "cell_type": "markdown",
   "id": "ac94d942",
   "metadata": {},
   "source": [
    "## Q4)\n",
    "To write and execute a Python script from the command line, you can follow these steps:\n",
    "\n",
    "(i)Open a text editor and create a new file. \n",
    "\n",
    "(ii)Write your Python code in the text file. \n",
    "\n",
    "(iii)Save the file with a .py extension. Choose a meaningful name for your file, and make sure to use the .py extension. \n",
    "\n",
    "(iv)Open the command line interface (CLI) or terminal on your operating system. The process for opening the command line interface varies depending on the operating system you are using.\n",
    "\n",
    "(v)In the command line interface, navigate to the directory where you saved your Python script. You can use the cd (change directory) command to navigate through directories\n",
    "\n",
    "(vi)Once you are in the correct directory, you can execute the Python script by typing python followed by the name of your script file\n",
    "\n",
    "(vii)Press Enter to execute the command. The Python interpreter will read the script file and execute the code."
   ]
  },
  {
   "cell_type": "code",
   "execution_count": 7,
   "id": "d70a3ebb",
   "metadata": {},
   "outputs": [
    {
     "data": {
      "text/plain": [
       "[2, 3]"
      ]
     },
     "execution_count": 7,
     "metadata": {},
     "output_type": "execute_result"
    }
   ],
   "source": [
    "#Q5)\n",
    "my_list=[1,2,3,4,5]\n",
    "my_list[1:3]"
   ]
  },
  {
   "cell_type": "markdown",
   "id": "8dfa2c73",
   "metadata": {},
   "source": [
    "## Q6)\n",
    "In mathematics, a complex number is a number that can be expressed in the form of a + bi, where a and b are real numbers, and i is the imaginary unit. The imaginary unit i is defined as the square root of -1.\n",
    "\n",
    "in python the are denoted as: a+bj,where a and b are real numbers.\n",
    "\n",
    "Eamples in next cell."
   ]
  },
  {
   "cell_type": "code",
   "execution_count": 8,
   "id": "046b918e",
   "metadata": {},
   "outputs": [
    {
     "data": {
      "text/plain": [
       "complex"
      ]
     },
     "execution_count": 8,
     "metadata": {},
     "output_type": "execute_result"
    }
   ],
   "source": [
    "#Q6)\n",
    "a=1+2j\n",
    "type(a)"
   ]
  },
  {
   "cell_type": "code",
   "execution_count": 9,
   "id": "111ee538",
   "metadata": {},
   "outputs": [],
   "source": [
    "#Q7)\n",
    "age = 25"
   ]
  },
  {
   "cell_type": "code",
   "execution_count": 10,
   "id": "286c8a88",
   "metadata": {},
   "outputs": [
    {
     "data": {
      "text/plain": [
       "float"
      ]
     },
     "execution_count": 10,
     "metadata": {},
     "output_type": "execute_result"
    }
   ],
   "source": [
    "#Q8)\n",
    "price=9.99\n",
    "# it belongs to float datatype"
   ]
  },
  {
   "cell_type": "code",
   "execution_count": 11,
   "id": "0c861ce3",
   "metadata": {},
   "outputs": [
    {
     "name": "stdout",
     "output_type": "stream",
     "text": [
      "Prasann\n"
     ]
    }
   ],
   "source": [
    "#Q9)\n",
    "name='Prasann'\n",
    "print(name)"
   ]
  },
  {
   "cell_type": "code",
   "execution_count": 17,
   "id": "9da5e188",
   "metadata": {},
   "outputs": [
    {
     "name": "stdout",
     "output_type": "stream",
     "text": [
      "World\n"
     ]
    }
   ],
   "source": [
    "#Q10)\n",
    "str1=\"Hello,World!\"\n",
    "l=str1.partition(\"World\")\n",
    "extracted=l[1]\n",
    "print(extracted)"
   ]
  },
  {
   "cell_type": "code",
   "execution_count": 18,
   "id": "66241e17",
   "metadata": {},
   "outputs": [],
   "source": [
    "#Q11)\n",
    "is_studeent=True"
   ]
  },
  {
   "cell_type": "code",
   "execution_count": null,
   "id": "420b44d6",
   "metadata": {},
   "outputs": [],
   "source": []
  }
 ],
 "metadata": {
  "kernelspec": {
   "display_name": "Python 3 (ipykernel)",
   "language": "python",
   "name": "python3"
  },
  "language_info": {
   "codemirror_mode": {
    "name": "ipython",
    "version": 3
   },
   "file_extension": ".py",
   "mimetype": "text/x-python",
   "name": "python",
   "nbconvert_exporter": "python",
   "pygments_lexer": "ipython3",
   "version": "3.11.1"
  }
 },
 "nbformat": 4,
 "nbformat_minor": 5
}
